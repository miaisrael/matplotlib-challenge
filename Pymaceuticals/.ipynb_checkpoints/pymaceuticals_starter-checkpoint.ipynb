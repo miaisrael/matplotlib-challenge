{
 "cells": [
  {
   "cell_type": "markdown",
   "metadata": {},
   "source": [
    "## Observations and Insights "
   ]
  },
  {
   "cell_type": "markdown",
   "metadata": {},
   "source": [
    "Based on these data, the Capomulin drug regimen is one of the most successful. Mice on the Capomulin regimen had the second-lowest average and median tumor volumes of the mice in the study. For these mice on the Capomulin regimen, tumor volume and average weight are positively correlated (as mouse weight increases, so does tumor volume). Examining tumor volume over time in one mouse treated with Capomulin indicates that the treatment is effective in reducing tumor volume between the first and last timepoints. "
   ]
  },
  {
   "cell_type": "code",
   "execution_count": 1,
   "metadata": {},
   "outputs": [
    {
     "data": {
      "text/html": [
       "<div>\n",
       "<style scoped>\n",
       "    .dataframe tbody tr th:only-of-type {\n",
       "        vertical-align: middle;\n",
       "    }\n",
       "\n",
       "    .dataframe tbody tr th {\n",
       "        vertical-align: top;\n",
       "    }\n",
       "\n",
       "    .dataframe thead th {\n",
       "        text-align: right;\n",
       "    }\n",
       "</style>\n",
       "<table border=\"1\" class=\"dataframe\">\n",
       "  <thead>\n",
       "    <tr style=\"text-align: right;\">\n",
       "      <th></th>\n",
       "      <th>Mouse ID</th>\n",
       "      <th>Drug Regimen</th>\n",
       "      <th>Sex</th>\n",
       "      <th>Age_months</th>\n",
       "      <th>Weight (g)</th>\n",
       "      <th>Timepoint</th>\n",
       "      <th>Tumor Volume (mm3)</th>\n",
       "      <th>Metastatic Sites</th>\n",
       "    </tr>\n",
       "  </thead>\n",
       "  <tbody>\n",
       "    <tr>\n",
       "      <th>0</th>\n",
       "      <td>k403</td>\n",
       "      <td>Ramicane</td>\n",
       "      <td>Male</td>\n",
       "      <td>21</td>\n",
       "      <td>16</td>\n",
       "      <td>0</td>\n",
       "      <td>45.000000</td>\n",
       "      <td>0</td>\n",
       "    </tr>\n",
       "    <tr>\n",
       "      <th>1</th>\n",
       "      <td>k403</td>\n",
       "      <td>Ramicane</td>\n",
       "      <td>Male</td>\n",
       "      <td>21</td>\n",
       "      <td>16</td>\n",
       "      <td>5</td>\n",
       "      <td>38.825898</td>\n",
       "      <td>0</td>\n",
       "    </tr>\n",
       "    <tr>\n",
       "      <th>2</th>\n",
       "      <td>k403</td>\n",
       "      <td>Ramicane</td>\n",
       "      <td>Male</td>\n",
       "      <td>21</td>\n",
       "      <td>16</td>\n",
       "      <td>10</td>\n",
       "      <td>35.014271</td>\n",
       "      <td>1</td>\n",
       "    </tr>\n",
       "    <tr>\n",
       "      <th>3</th>\n",
       "      <td>k403</td>\n",
       "      <td>Ramicane</td>\n",
       "      <td>Male</td>\n",
       "      <td>21</td>\n",
       "      <td>16</td>\n",
       "      <td>15</td>\n",
       "      <td>34.223992</td>\n",
       "      <td>1</td>\n",
       "    </tr>\n",
       "    <tr>\n",
       "      <th>4</th>\n",
       "      <td>k403</td>\n",
       "      <td>Ramicane</td>\n",
       "      <td>Male</td>\n",
       "      <td>21</td>\n",
       "      <td>16</td>\n",
       "      <td>20</td>\n",
       "      <td>32.997729</td>\n",
       "      <td>1</td>\n",
       "    </tr>\n",
       "  </tbody>\n",
       "</table>\n",
       "</div>"
      ],
      "text/plain": [
       "  Mouse ID Drug Regimen   Sex  Age_months  Weight (g)  Timepoint  \\\n",
       "0     k403     Ramicane  Male          21          16          0   \n",
       "1     k403     Ramicane  Male          21          16          5   \n",
       "2     k403     Ramicane  Male          21          16         10   \n",
       "3     k403     Ramicane  Male          21          16         15   \n",
       "4     k403     Ramicane  Male          21          16         20   \n",
       "\n",
       "   Tumor Volume (mm3)  Metastatic Sites  \n",
       "0           45.000000                 0  \n",
       "1           38.825898                 0  \n",
       "2           35.014271                 1  \n",
       "3           34.223992                 1  \n",
       "4           32.997729                 1  "
      ]
     },
     "execution_count": 1,
     "metadata": {},
     "output_type": "execute_result"
    }
   ],
   "source": [
    "# Dependencies and Setup\n",
    "import matplotlib.pyplot as plt\n",
    "import pandas as pd\n",
    "import scipy.stats as st\n",
    "import numpy as np\n",
    "\n",
    "# Study data files\n",
    "mouse_metadata_path = \"Resources/Mouse_metadata.csv\"\n",
    "study_results_path = \"Resources/Study_results.csv\"\n",
    "\n",
    "# Read the mouse data and the study results\n",
    "mouse_metadata = pd.read_csv(mouse_metadata_path)\n",
    "study_results = pd.read_csv(study_results_path)\n",
    "\n",
    "# Combine the data into a single dataset\n",
    "combined_data = pd.merge(mouse_metadata, study_results, how= \"left\", on= [\"Mouse ID\", \"Mouse ID\"])\n",
    "\n",
    "# Display the data table for preview\n",
    "combined_data.head()"
   ]
  },
  {
   "cell_type": "code",
   "execution_count": 2,
   "metadata": {},
   "outputs": [
    {
     "data": {
      "text/plain": [
       "g989    0.006867\n",
       "a275    0.005283\n",
       "k210    0.005283\n",
       "q787    0.005283\n",
       "o926    0.005283\n",
       "          ...   \n",
       "v199    0.000528\n",
       "n482    0.000528\n",
       "u153    0.000528\n",
       "l872    0.000528\n",
       "x226    0.000528\n",
       "Name: Mouse ID, Length: 249, dtype: float64"
      ]
     },
     "execution_count": 2,
     "metadata": {},
     "output_type": "execute_result"
    }
   ],
   "source": [
    "# Checking the number of mice (starting with 249 unique IDs)\n",
    "combined_data[\"Mouse ID\"].value_counts(normalize=True)"
   ]
  },
  {
   "cell_type": "code",
   "execution_count": 3,
   "metadata": {},
   "outputs": [
    {
     "name": "stdout",
     "output_type": "stream",
     "text": [
      "    Mouse ID Drug Regimen     Sex  Age_months  Weight (g)  Timepoint  \\\n",
      "909     g989     Propriva  Female          21          26          0   \n",
      "911     g989     Propriva  Female          21          26          5   \n",
      "913     g989     Propriva  Female          21          26         10   \n",
      "915     g989     Propriva  Female          21          26         15   \n",
      "917     g989     Propriva  Female          21          26         20   \n",
      "\n",
      "     Tumor Volume (mm3)  Metastatic Sites  \n",
      "909           45.000000                 0  \n",
      "911           47.570392                 0  \n",
      "913           49.880528                 0  \n",
      "915           53.442020                 0  \n",
      "917           54.657650                 1  \n"
     ]
    }
   ],
   "source": [
    "# Getting the duplicate mice by ID number that shows up for Mouse ID and Timepoint. \n",
    "duplicates_df= combined_data[combined_data.duplicated([\"Mouse ID\", \"Timepoint\"])]\n",
    "print(duplicates_df)"
   ]
  },
  {
   "cell_type": "code",
   "execution_count": 4,
   "metadata": {},
   "outputs": [],
   "source": [
    "# Optional: Get all the data for the duplicate mouse ID. \n",
    "dup_data= combined_data[combined_data[\"Mouse ID\"] == \"g989\"].index"
   ]
  },
  {
   "cell_type": "code",
   "execution_count": 5,
   "metadata": {},
   "outputs": [],
   "source": [
    "# Create a clean DataFrame by dropping the duplicate mouse by its ID.\n",
    "combined_data.drop(dup_data, inplace= True)"
   ]
  },
  {
   "cell_type": "code",
   "execution_count": 6,
   "metadata": {},
   "outputs": [
    {
     "data": {
      "text/plain": [
       "a275    0.005319\n",
       "y478    0.005319\n",
       "q787    0.005319\n",
       "o926    0.005319\n",
       "q633    0.005319\n",
       "          ...   \n",
       "v199    0.000532\n",
       "n482    0.000532\n",
       "u153    0.000532\n",
       "l872    0.000532\n",
       "x226    0.000532\n",
       "Name: Mouse ID, Length: 248, dtype: float64"
      ]
     },
     "execution_count": 6,
     "metadata": {},
     "output_type": "execute_result"
    }
   ],
   "source": [
    "# Checking the number of mice in the clean DataFrame (now 248 once duplicate was dropped)\n",
    "combined_data[\"Mouse ID\"].value_counts(normalize=True)"
   ]
  },
  {
   "cell_type": "markdown",
   "metadata": {},
   "source": [
    "## Summary Statistics"
   ]
  },
  {
   "cell_type": "code",
   "execution_count": 25,
   "metadata": {},
   "outputs": [
    {
     "data": {
      "text/html": [
       "<div>\n",
       "<style scoped>\n",
       "    .dataframe tbody tr th:only-of-type {\n",
       "        vertical-align: middle;\n",
       "    }\n",
       "\n",
       "    .dataframe tbody tr th {\n",
       "        vertical-align: top;\n",
       "    }\n",
       "\n",
       "    .dataframe thead th {\n",
       "        text-align: right;\n",
       "    }\n",
       "</style>\n",
       "<table border=\"1\" class=\"dataframe\">\n",
       "  <thead>\n",
       "    <tr style=\"text-align: right;\">\n",
       "      <th></th>\n",
       "      <th>Average Tumor Vol (mm3)</th>\n",
       "    </tr>\n",
       "    <tr>\n",
       "      <th>Drug Regimen</th>\n",
       "      <th></th>\n",
       "    </tr>\n",
       "  </thead>\n",
       "  <tbody>\n",
       "    <tr>\n",
       "      <th>Capomulin</th>\n",
       "      <td>40.675741</td>\n",
       "    </tr>\n",
       "    <tr>\n",
       "      <th>Ceftamin</th>\n",
       "      <td>52.591172</td>\n",
       "    </tr>\n",
       "    <tr>\n",
       "      <th>Infubinol</th>\n",
       "      <td>52.884795</td>\n",
       "    </tr>\n",
       "    <tr>\n",
       "      <th>Ketapril</th>\n",
       "      <td>55.235638</td>\n",
       "    </tr>\n",
       "    <tr>\n",
       "      <th>Naftisol</th>\n",
       "      <td>54.331565</td>\n",
       "    </tr>\n",
       "    <tr>\n",
       "      <th>Placebo</th>\n",
       "      <td>54.033581</td>\n",
       "    </tr>\n",
       "    <tr>\n",
       "      <th>Propriva</th>\n",
       "      <td>52.320930</td>\n",
       "    </tr>\n",
       "    <tr>\n",
       "      <th>Ramicane</th>\n",
       "      <td>40.216745</td>\n",
       "    </tr>\n",
       "    <tr>\n",
       "      <th>Stelasyn</th>\n",
       "      <td>54.233149</td>\n",
       "    </tr>\n",
       "    <tr>\n",
       "      <th>Zoniferol</th>\n",
       "      <td>53.236507</td>\n",
       "    </tr>\n",
       "  </tbody>\n",
       "</table>\n",
       "</div>"
      ],
      "text/plain": [
       "              Average Tumor Vol (mm3)\n",
       "Drug Regimen                         \n",
       "Capomulin                   40.675741\n",
       "Ceftamin                    52.591172\n",
       "Infubinol                   52.884795\n",
       "Ketapril                    55.235638\n",
       "Naftisol                    54.331565\n",
       "Placebo                     54.033581\n",
       "Propriva                    52.320930\n",
       "Ramicane                    40.216745\n",
       "Stelasyn                    54.233149\n",
       "Zoniferol                   53.236507"
      ]
     },
     "execution_count": 25,
     "metadata": {},
     "output_type": "execute_result"
    }
   ],
   "source": [
    "# Use groupby and summary statistical methods to calculate the following properties of each drug regimen: \n",
    "# mean, median, variance, standard deviation, and SEM of the tumor volume. \n",
    "\n",
    "# Groupby drug regimen\n",
    "summary_df= combined_data[[\"Drug Regimen\", \"Tumor Volume (mm3)\"]]\n",
    "\n",
    "drug_summary= summary_df.groupby([\"Drug Regimen\"])\n",
    "\n",
    "# Assemble the resulting series into a single summary dataframe.\n",
    "drug_group_mean= drug_summary.mean()\n",
    "drug_group_mean= drug_group_mean.rename(columns={\"Tumor Volume (mm3)\": \"Average Tumor Vol (mm3)\"})\n",
    "drug_group_mean"
   ]
  },
  {
   "cell_type": "code",
   "execution_count": 8,
   "metadata": {},
   "outputs": [
    {
     "data": {
      "text/html": [
       "<div>\n",
       "<style scoped>\n",
       "    .dataframe tbody tr th:only-of-type {\n",
       "        vertical-align: middle;\n",
       "    }\n",
       "\n",
       "    .dataframe tbody tr th {\n",
       "        vertical-align: top;\n",
       "    }\n",
       "\n",
       "    .dataframe thead th {\n",
       "        text-align: right;\n",
       "    }\n",
       "</style>\n",
       "<table border=\"1\" class=\"dataframe\">\n",
       "  <thead>\n",
       "    <tr style=\"text-align: right;\">\n",
       "      <th></th>\n",
       "      <th>Average Tumor Vol (mm3)</th>\n",
       "      <th>Median Tumor Vol (mm3)</th>\n",
       "      <th>Variance in Tumor Vol</th>\n",
       "      <th>Standard Deviation in Tumor Vol (mm3)</th>\n",
       "      <th>Standard Error of Mean</th>\n",
       "    </tr>\n",
       "    <tr>\n",
       "      <th>Drug Regimen</th>\n",
       "      <th></th>\n",
       "      <th></th>\n",
       "      <th></th>\n",
       "      <th></th>\n",
       "      <th></th>\n",
       "    </tr>\n",
       "  </thead>\n",
       "  <tbody>\n",
       "    <tr>\n",
       "      <th>Capomulin</th>\n",
       "      <td>40.675741</td>\n",
       "      <td>41.557809</td>\n",
       "      <td>24.947764</td>\n",
       "      <td>4.994774</td>\n",
       "      <td>0.329346</td>\n",
       "    </tr>\n",
       "    <tr>\n",
       "      <th>Ceftamin</th>\n",
       "      <td>52.591172</td>\n",
       "      <td>51.776157</td>\n",
       "      <td>39.290177</td>\n",
       "      <td>6.268188</td>\n",
       "      <td>0.469821</td>\n",
       "    </tr>\n",
       "    <tr>\n",
       "      <th>Infubinol</th>\n",
       "      <td>52.884795</td>\n",
       "      <td>51.820584</td>\n",
       "      <td>43.128684</td>\n",
       "      <td>6.567243</td>\n",
       "      <td>0.492236</td>\n",
       "    </tr>\n",
       "    <tr>\n",
       "      <th>Ketapril</th>\n",
       "      <td>55.235638</td>\n",
       "      <td>53.698743</td>\n",
       "      <td>68.553577</td>\n",
       "      <td>8.279709</td>\n",
       "      <td>0.603860</td>\n",
       "    </tr>\n",
       "    <tr>\n",
       "      <th>Naftisol</th>\n",
       "      <td>54.331565</td>\n",
       "      <td>52.509285</td>\n",
       "      <td>66.173479</td>\n",
       "      <td>8.134708</td>\n",
       "      <td>0.596466</td>\n",
       "    </tr>\n",
       "    <tr>\n",
       "      <th>Placebo</th>\n",
       "      <td>54.033581</td>\n",
       "      <td>52.288934</td>\n",
       "      <td>61.168083</td>\n",
       "      <td>7.821003</td>\n",
       "      <td>0.581331</td>\n",
       "    </tr>\n",
       "    <tr>\n",
       "      <th>Propriva</th>\n",
       "      <td>52.320930</td>\n",
       "      <td>50.446266</td>\n",
       "      <td>43.852013</td>\n",
       "      <td>6.622085</td>\n",
       "      <td>0.544332</td>\n",
       "    </tr>\n",
       "    <tr>\n",
       "      <th>Ramicane</th>\n",
       "      <td>40.216745</td>\n",
       "      <td>40.673236</td>\n",
       "      <td>23.486704</td>\n",
       "      <td>4.846308</td>\n",
       "      <td>0.320955</td>\n",
       "    </tr>\n",
       "    <tr>\n",
       "      <th>Stelasyn</th>\n",
       "      <td>54.233149</td>\n",
       "      <td>52.431737</td>\n",
       "      <td>59.450562</td>\n",
       "      <td>7.710419</td>\n",
       "      <td>0.573111</td>\n",
       "    </tr>\n",
       "    <tr>\n",
       "      <th>Zoniferol</th>\n",
       "      <td>53.236507</td>\n",
       "      <td>51.818479</td>\n",
       "      <td>48.533355</td>\n",
       "      <td>6.966589</td>\n",
       "      <td>0.516398</td>\n",
       "    </tr>\n",
       "  </tbody>\n",
       "</table>\n",
       "</div>"
      ],
      "text/plain": [
       "              Average Tumor Vol (mm3)  Median Tumor Vol (mm3)  \\\n",
       "Drug Regimen                                                    \n",
       "Capomulin                   40.675741               41.557809   \n",
       "Ceftamin                    52.591172               51.776157   \n",
       "Infubinol                   52.884795               51.820584   \n",
       "Ketapril                    55.235638               53.698743   \n",
       "Naftisol                    54.331565               52.509285   \n",
       "Placebo                     54.033581               52.288934   \n",
       "Propriva                    52.320930               50.446266   \n",
       "Ramicane                    40.216745               40.673236   \n",
       "Stelasyn                    54.233149               52.431737   \n",
       "Zoniferol                   53.236507               51.818479   \n",
       "\n",
       "              Variance in Tumor Vol  Standard Deviation in Tumor Vol (mm3)  \\\n",
       "Drug Regimen                                                                 \n",
       "Capomulin                 24.947764                               4.994774   \n",
       "Ceftamin                  39.290177                               6.268188   \n",
       "Infubinol                 43.128684                               6.567243   \n",
       "Ketapril                  68.553577                               8.279709   \n",
       "Naftisol                  66.173479                               8.134708   \n",
       "Placebo                   61.168083                               7.821003   \n",
       "Propriva                  43.852013                               6.622085   \n",
       "Ramicane                  23.486704                               4.846308   \n",
       "Stelasyn                  59.450562                               7.710419   \n",
       "Zoniferol                 48.533355                               6.966589   \n",
       "\n",
       "              Standard Error of Mean  \n",
       "Drug Regimen                          \n",
       "Capomulin                   0.329346  \n",
       "Ceftamin                    0.469821  \n",
       "Infubinol                   0.492236  \n",
       "Ketapril                    0.603860  \n",
       "Naftisol                    0.596466  \n",
       "Placebo                     0.581331  \n",
       "Propriva                    0.544332  \n",
       "Ramicane                    0.320955  \n",
       "Stelasyn                    0.573111  \n",
       "Zoniferol                   0.516398  "
      ]
     },
     "execution_count": 8,
     "metadata": {},
     "output_type": "execute_result"
    }
   ],
   "source": [
    "# Generate a summary statistics table of mean, median, variance, standard deviation, and SEM of the tumor volume for each regimen\n",
    "drug_group_median= drug_summary.median()\n",
    "drug_group_median= drug_group_median.rename(columns={\"Tumor Volume (mm3)\": \"Median Tumor Vol (mm3)\"})\n",
    "\n",
    "drug_group_var= drug_summary.var()\n",
    "drug_group_var= drug_group_var.rename(columns={\"Tumor Volume (mm3)\": \"Variance in Tumor Vol\"})\n",
    "\n",
    "drug_group_std= drug_summary.std()\n",
    "drug_group_std= drug_group_std.rename(columns={\"Tumor Volume (mm3)\": \"Standard Deviation in Tumor Vol (mm3)\"})\n",
    "\n",
    "drug_group_sem= drug_summary.sem()\n",
    "drug_group_sem= drug_group_sem.rename(columns={\"Tumor Volume (mm3)\": \"Standard Error of Mean\"})\n",
    "\n",
    "# Using the aggregation method, produce the same summary statistics in a single line\n",
    "drug_group_final= pd.concat([drug_group_mean, drug_group_median, drug_group_var, drug_group_std, drug_group_sem], axis= 1)\n",
    "drug_group_final"
   ]
  },
  {
   "cell_type": "markdown",
   "metadata": {},
   "source": [
    "## Bar and Pie Charts"
   ]
  },
  {
   "cell_type": "code",
   "execution_count": 9,
   "metadata": {},
   "outputs": [
    {
     "data": {
      "text/html": [
       "<div>\n",
       "<style scoped>\n",
       "    .dataframe tbody tr th:only-of-type {\n",
       "        vertical-align: middle;\n",
       "    }\n",
       "\n",
       "    .dataframe tbody tr th {\n",
       "        vertical-align: top;\n",
       "    }\n",
       "\n",
       "    .dataframe thead th {\n",
       "        text-align: right;\n",
       "    }\n",
       "</style>\n",
       "<table border=\"1\" class=\"dataframe\">\n",
       "  <thead>\n",
       "    <tr style=\"text-align: right;\">\n",
       "      <th></th>\n",
       "      <th>Mouse ID</th>\n",
       "    </tr>\n",
       "    <tr>\n",
       "      <th>Drug Regimen</th>\n",
       "      <th></th>\n",
       "    </tr>\n",
       "  </thead>\n",
       "  <tbody>\n",
       "    <tr>\n",
       "      <th>Capomulin</th>\n",
       "      <td>25</td>\n",
       "    </tr>\n",
       "    <tr>\n",
       "      <th>Ceftamin</th>\n",
       "      <td>25</td>\n",
       "    </tr>\n",
       "    <tr>\n",
       "      <th>Infubinol</th>\n",
       "      <td>25</td>\n",
       "    </tr>\n",
       "    <tr>\n",
       "      <th>Ketapril</th>\n",
       "      <td>25</td>\n",
       "    </tr>\n",
       "    <tr>\n",
       "      <th>Naftisol</th>\n",
       "      <td>25</td>\n",
       "    </tr>\n",
       "    <tr>\n",
       "      <th>Placebo</th>\n",
       "      <td>25</td>\n",
       "    </tr>\n",
       "    <tr>\n",
       "      <th>Propriva</th>\n",
       "      <td>24</td>\n",
       "    </tr>\n",
       "    <tr>\n",
       "      <th>Ramicane</th>\n",
       "      <td>25</td>\n",
       "    </tr>\n",
       "    <tr>\n",
       "      <th>Stelasyn</th>\n",
       "      <td>24</td>\n",
       "    </tr>\n",
       "    <tr>\n",
       "      <th>Zoniferol</th>\n",
       "      <td>25</td>\n",
       "    </tr>\n",
       "  </tbody>\n",
       "</table>\n",
       "</div>"
      ],
      "text/plain": [
       "              Mouse ID\n",
       "Drug Regimen          \n",
       "Capomulin           25\n",
       "Ceftamin            25\n",
       "Infubinol           25\n",
       "Ketapril            25\n",
       "Naftisol            25\n",
       "Placebo             25\n",
       "Propriva            24\n",
       "Ramicane            25\n",
       "Stelasyn            24\n",
       "Zoniferol           25"
      ]
     },
     "execution_count": 9,
     "metadata": {},
     "output_type": "execute_result"
    }
   ],
   "source": [
    "# Find uniques\n",
    "bar_graph_df= combined_data[[\"Mouse ID\", \"Drug Regimen\"]]\n",
    "bar_data= bar_graph_df.groupby(\"Drug Regimen\").nunique()\n",
    "del bar_data[\"Drug Regimen\"]\n",
    "bar_data"
   ]
  },
  {
   "cell_type": "code",
   "execution_count": 10,
   "metadata": {},
   "outputs": [],
   "source": [
    "# Set variables\n",
    "bar_data[\"Drug Regimen\"]= bar_data.index\n",
    "total_mice= bar_data[\"Mouse ID\"]\n",
    "drug_regimen= bar_data[\"Drug Regimen\"]"
   ]
  },
  {
   "cell_type": "code",
   "execution_count": 11,
   "metadata": {},
   "outputs": [
    {
     "data": {
      "text/plain": [
       "<matplotlib.axes._subplots.AxesSubplot at 0x1937e89be48>"
      ]
     },
     "execution_count": 11,
     "metadata": {},
     "output_type": "execute_result"
    },
    {
     "data": {
      "image/png": "[encoded data removed]",
      "text/plain": [
       "<Figure size 432x288 with 1 Axes>"
      ]
     },
     "metadata": {
      "needs_background": "light"
     },
     "output_type": "display_data"
    }
   ],
   "source": [
    "# Generate a bar plot showing the total number of unique mice tested on each drug regimen using pandas.\n",
    "bar_data.plot(kind=\"bar\", title=\"Total Unique Mice Tested by Drug Regimen\")\n"
   ]
  },
  {
   "cell_type": "code",
   "execution_count": 12,
   "metadata": {},
   "outputs": [
    {
     "data": {
      "text/plain": [
       "Text(0.5, 1.0, 'Total Unique Mice Tested by Drug Regimen')"
      ]
     },
     "execution_count": 12,
     "metadata": {},
     "output_type": "execute_result"
    },
    {
     "data": {
      "image/png": "[encoded data removed]",
      "text/plain": [
       "<Figure size 432x288 with 1 Axes>"
      ]
     },
     "metadata": {
      "needs_background": "light"
     },
     "output_type": "display_data"
    }
   ],
   "source": [
    "# Generate a bar plot showing the total number of unique mice tested on each drug regimen using pyplot\n",
    "plt.bar(drug_regimen, total_mice, align=\"center\")\n",
    "plt.xlabel(\"Drug Regimen\")\n",
    "tick_loc= [value for value in drug_regimen]\n",
    "plt.xticks(tick_loc, drug_regimen, rotation=\"vertical\")\n",
    "plt.title(\"Total Unique Mice Tested by Drug Regimen\")"
   ]
  },
  {
   "cell_type": "code",
   "execution_count": 13,
   "metadata": {},
   "outputs": [],
   "source": [
    "# Find uniques\n",
    "pie_plot_df= combined_data[[\"Mouse ID\", \"Sex\"]]\n",
    "pie_data= pie_plot_df.groupby(\"Sex\").nunique()\n",
    "del pie_data[\"Sex\"]"
   ]
  },
  {
   "cell_type": "code",
   "execution_count": 14,
   "metadata": {},
   "outputs": [],
   "source": [
    "# Set variables\n",
    "pie_data[\"Sex\"]= pie_data.index\n",
    "mouse_sex= pie_data[\"Sex\"]\n",
    "mouse_total= pie_data[\"Mouse ID\"]"
   ]
  },
  {
   "cell_type": "code",
   "execution_count": 15,
   "metadata": {},
   "outputs": [
    {
     "data": {
      "text/plain": [
       "Text(0.5, 1.0, 'Number of Male vs. Female Mice')"
      ]
     },
     "execution_count": 15,
     "metadata": {},
     "output_type": "execute_result"
    },
    {
     "data": {
      "image/png": "[encoded data removed]",
      "text/plain": [
       "<Figure size 360x360 with 1 Axes>"
      ]
     },
     "metadata": {},
     "output_type": "display_data"
    }
   ],
   "source": [
    "# Generate a pie plot showing the distribution of female versus male mice using pandas\n",
    "pie_data.plot(kind=\"pie\", y= \"Mouse ID\", figsize= (5,5))\n",
    "plt.title(\"Number of Male vs. Female Mice\")"
   ]
  },
  {
   "cell_type": "code",
   "execution_count": 16,
   "metadata": {},
   "outputs": [
    {
     "data": {
      "text/plain": [
       "Text(0.5, 1.0, 'Number of Male vs. Female Mice')"
      ]
     },
     "execution_count": 16,
     "metadata": {},
     "output_type": "execute_result"
    },
    {
     "data": {
      "image/png": "[encoded data removed]",
      "text/plain": [
       "<Figure size 432x288 with 1 Axes>"
      ]
     },
     "metadata": {},
     "output_type": "display_data"
    }
   ],
   "source": [
    "# Generate a pie plot showing the distribution of female versus male mice using pyplot\n",
    "plt.pie(mouse_total, labels= mouse_sex)\n",
    "plt.legend (labels= mouse_sex, loc=\"upper right\")\n",
    "plt.axis(\"equal\")\n",
    "plt.ylabel(\"Mouse ID\")\n",
    "plt.tight_layout()\n",
    "plt.title(\"Number of Male vs. Female Mice\")"
   ]
  },
  {
   "cell_type": "markdown",
   "metadata": {},
   "source": [
    "## Quartiles, Outliers and Boxplots"
   ]
  },
  {
   "cell_type": "code",
   "execution_count": 17,
   "metadata": {},
   "outputs": [],
   "source": [
    "max_timepoint = combined_data.groupby([\"Mouse ID\"]).max()[\"Timepoint\"]"
   ]
  },
  {
   "cell_type": "code",
   "execution_count": 18,
   "metadata": {},
   "outputs": [
    {
     "data": {
      "text/html": [
       "<div>\n",
       "<style scoped>\n",
       "    .dataframe tbody tr th:only-of-type {\n",
       "        vertical-align: middle;\n",
       "    }\n",
       "\n",
       "    .dataframe tbody tr th {\n",
       "        vertical-align: top;\n",
       "    }\n",
       "\n",
       "    .dataframe thead th {\n",
       "        text-align: right;\n",
       "    }\n",
       "</style>\n",
       "<table border=\"1\" class=\"dataframe\">\n",
       "  <thead>\n",
       "    <tr style=\"text-align: right;\">\n",
       "      <th></th>\n",
       "      <th>Mouse ID</th>\n",
       "      <th>Timepoint</th>\n",
       "      <th>Drug Regimen</th>\n",
       "      <th>Sex</th>\n",
       "      <th>Age_months</th>\n",
       "      <th>Weight (g)</th>\n",
       "      <th>Tumor Volume (mm3)</th>\n",
       "      <th>Metastatic Sites</th>\n",
       "    </tr>\n",
       "  </thead>\n",
       "  <tbody>\n",
       "    <tr>\n",
       "      <th>0</th>\n",
       "      <td>b128</td>\n",
       "      <td>45</td>\n",
       "      <td>Capomulin</td>\n",
       "      <td>Female</td>\n",
       "      <td>9</td>\n",
       "      <td>22</td>\n",
       "      <td>38.982878</td>\n",
       "      <td>2</td>\n",
       "    </tr>\n",
       "    <tr>\n",
       "      <th>1</th>\n",
       "      <td>b742</td>\n",
       "      <td>45</td>\n",
       "      <td>Capomulin</td>\n",
       "      <td>Male</td>\n",
       "      <td>7</td>\n",
       "      <td>21</td>\n",
       "      <td>38.939633</td>\n",
       "      <td>0</td>\n",
       "    </tr>\n",
       "    <tr>\n",
       "      <th>2</th>\n",
       "      <td>f966</td>\n",
       "      <td>20</td>\n",
       "      <td>Capomulin</td>\n",
       "      <td>Male</td>\n",
       "      <td>16</td>\n",
       "      <td>17</td>\n",
       "      <td>30.485985</td>\n",
       "      <td>0</td>\n",
       "    </tr>\n",
       "    <tr>\n",
       "      <th>3</th>\n",
       "      <td>g288</td>\n",
       "      <td>45</td>\n",
       "      <td>Capomulin</td>\n",
       "      <td>Male</td>\n",
       "      <td>3</td>\n",
       "      <td>19</td>\n",
       "      <td>37.074024</td>\n",
       "      <td>1</td>\n",
       "    </tr>\n",
       "    <tr>\n",
       "      <th>4</th>\n",
       "      <td>g316</td>\n",
       "      <td>45</td>\n",
       "      <td>Capomulin</td>\n",
       "      <td>Female</td>\n",
       "      <td>22</td>\n",
       "      <td>22</td>\n",
       "      <td>40.159220</td>\n",
       "      <td>2</td>\n",
       "    </tr>\n",
       "  </tbody>\n",
       "</table>\n",
       "</div>"
      ],
      "text/plain": [
       "  Mouse ID  Timepoint Drug Regimen     Sex  Age_months  Weight (g)  \\\n",
       "0     b128         45    Capomulin  Female           9          22   \n",
       "1     b742         45    Capomulin    Male           7          21   \n",
       "2     f966         20    Capomulin    Male          16          17   \n",
       "3     g288         45    Capomulin    Male           3          19   \n",
       "4     g316         45    Capomulin  Female          22          22   \n",
       "\n",
       "   Tumor Volume (mm3)  Metastatic Sites  \n",
       "0           38.982878                 2  \n",
       "1           38.939633                 0  \n",
       "2           30.485985                 0  \n",
       "3           37.074024                 1  \n",
       "4           40.159220                 2  "
      ]
     },
     "execution_count": 18,
     "metadata": {},
     "output_type": "execute_result"
    }
   ],
   "source": [
    "# Calculate the final tumor volume of each mouse across four of the treatment regimens:\n",
    "\n",
    "# Dataframe with top 4 (Capomulin, Ramicane, Infubinol, and Ceftamin)\n",
    "cap_df= combined_data.loc[combined_data[\"Drug Regimen\"]== \"Capomulin\",:]\n",
    "ram_df= combined_data.loc[combined_data[\"Drug Regimen\"]== \"Ramicane\",:]\n",
    "inf_df= combined_data.loc[combined_data[\"Drug Regimen\"]== \"Infubinol\",:]\n",
    "cef_df= combined_data.loc[combined_data[\"Drug Regimen\"]== \"Ceftamin\",:]\n",
    "\n",
    "# Start by getting the last (greatest) timepoint for each mouse\n",
    "# Merge this group df with the original dataframe to get the tumor volume at the last timepoint\n",
    "\n",
    "# Capomulin\n",
    "cap_max= cap_df.groupby(\"Mouse ID\").max()[\"Timepoint\"]\n",
    "cap_max_df= pd.DataFrame(cap_max)\n",
    "cap_merge_df= pd.merge(cap_max_df, combined_data, on=(\"Mouse ID\", \"Timepoint\"), how= \"left\")\n",
    "\n",
    "# Ramicane\n",
    "ram_max= ram_df.groupby(\"Mouse ID\").max()[\"Timepoint\"]\n",
    "ram_max_df= pd.DataFrame(ram_max)\n",
    "ram_merge_df= pd.merge(ram_max_df, combined_data, on=(\"Mouse ID\", \"Timepoint\"), how= \"left\")\n",
    "\n",
    "# Infubinol\n",
    "inf_max= inf_df.groupby(\"Mouse ID\").max()[\"Timepoint\"]\n",
    "inf_max_df= pd.DataFrame(inf_max)\n",
    "inf_merge_df= pd.merge(inf_max_df, combined_data, on=(\"Mouse ID\", \"Timepoint\"), how= \"left\")\n",
    "\n",
    "# Ceftamin\n",
    "cef_max= cef_df.groupby(\"Mouse ID\").max()[\"Timepoint\"]\n",
    "cef_max_df=pd.DataFrame(cef_max)\n",
    "cef_merge_df= pd.merge(cef_max_df, combined_data, on=(\"Mouse ID\", \"Timepoint\"), how= \"left\")\n",
    "\n",
    "cap_merge_df.head()"
   ]
  },
  {
   "cell_type": "code",
   "execution_count": 19,
   "metadata": {},
   "outputs": [
    {
     "name": "stdout",
     "output_type": "stream",
     "text": [
      "Capomulin outliers are values below 20.70456164999999 and above 51.83201549.\n",
      "Ramicane outliers are values below 17.912664470000003 and above 54.30681135.\n",
      "Infubinol outliers are values below 36.83290494999999 and above 82.74144559000001.\n",
      "Ceftamin outliers are values below 25.355449580000002 and above 87.66645829999999.\n"
     ]
    }
   ],
   "source": [
    "# Put treatments into a list for for loop (and later for plot labels)\n",
    "treatments= [\"Capomulin\", \"Ramicane\", \"Infubinol\", \"Ceftamin\"]\n",
    "\n",
    "# Create empty list to fill with tumor vol data (for plotting)\n",
    "tumor_vol= []\n",
    "            \n",
    "# Calculate the IQR and quantitatively determine if there are any potential outliers.\n",
    "# Determine outliers using upper and lower bounds\n",
    "    \n",
    "# Locate the rows which contain mice on each drug and get the tumor volumes\n",
    "cap_tumor_vol= cap_merge_df[\"Tumor Volume (mm3)\"]\n",
    "ram_tumor_vol= ram_merge_df[\"Tumor Volume (mm3)\"]\n",
    "inf_tumor_vol= inf_merge_df[\"Tumor Volume (mm3)\"]\n",
    "cef_tumor_vol= cef_merge_df[\"Tumor Volume (mm3)\"]\n",
    "\n",
    "# Capomulin Plot and Outliers\n",
    "cap_quartiles= cap_tumor_vol.quantile([.25, .5, .75])\n",
    "cap_lower= cap_quartiles[0.25]\n",
    "cap_upper= cap_quartiles[0.75]\n",
    "cap_iqr= cap_upper - cap_lower \n",
    "cap_lower_bound= cap_lower - (1.5*cap_iqr)\n",
    "cap_upper_bound= cap_upper + (1.5*cap_iqr)\n",
    "\n",
    "print(f\"Capomulin outliers may be values below {cap_lower_bound} and above {cap_upper_bound}.\")\n",
    "\n",
    "# Ramicane Plot and Outliers\n",
    "ram_quartiles= ram_tumor_vol.quantile([.25, .5, .75])\n",
    "ram_lower= ram_quartiles[0.25]\n",
    "ram_upper= ram_quartiles[0.75]\n",
    "ram_iqr= ram_upper - ram_lower \n",
    "ram_lower_bound= ram_lower - (1.5*ram_iqr)\n",
    "ram_upper_bound= ram_upper + (1.5*ram_iqr)\n",
    "\n",
    "print(f\"Ramicane outliers may be values below {ram_lower_bound} and above {ram_upper_bound}.\")\n",
    "\n",
    "# Infubinol Plot and Outliers\n",
    "inf_quartiles= inf_tumor_vol.quantile([.25, .5, .75])\n",
    "inf_lower= inf_quartiles[0.25]\n",
    "inf_upper= inf_quartiles[0.75]\n",
    "inf_iqr= inf_upper - inf_lower \n",
    "inf_lower_bound= inf_lower - (1.5*inf_iqr)\n",
    "inf_upper_bound= inf_upper + (1.5*inf_iqr)\n",
    "\n",
    "print(f\"Infubinol outliers may bevalues below {inf_lower_bound} and above {inf_upper_bound}.\")\n",
    "\n",
    "# Ceftamin Plot and Outliers\n",
    "cef_quartiles= cef_tumor_vol.quantile([.25, .5, .75])\n",
    "cef_lower= cef_quartiles[0.25]\n",
    "cef_upper= cef_quartiles[0.75]\n",
    "cef_iqr= cef_upper - cef_lower \n",
    "cef_lower_bound= cef_lower - (1.5*cef_iqr)\n",
    "cef_upper_bound= cef_upper + (1.5*cef_iqr)\n",
    "\n",
    "print(f\"Ceftamin outliers may be values below {cef_lower_bound} and above {cef_upper_bound}.\")"
   ]
  },
  {
   "cell_type": "code",
   "execution_count": 29,
   "metadata": {},
   "outputs": [
    {
     "data": {
      "image/png": "[encoded data removed]",
      "text/plain": [
       "<Figure size 432x288 with 1 Axes>"
      ]
     },
     "metadata": {
      "needs_background": "light"
     },
     "output_type": "display_data"
    }
   ],
   "source": [
    "# Generate a box plot of the final tumor volume of each mouse across four regimens of interest\n",
    "boxplot_data= [cap_tumor_vol, ram_tumor_vol, inf_tumor_vol, cef_tumor_vol]\n",
    "\n",
    "# Plot\n",
    "fig1, ax1 = plt.subplots()\n",
    "\n",
    "# Title and axes labels, y limits\n",
    "ax1.set_title(\"Four Promising Regimens by Final Tumor Volume\")\n",
    "ax1.set_xlabel(\"Drug Regimen\")\n",
    "ax1.set_ylabel(\"Final Tumor Volume (mm3)\")\n",
    "ymin= 0\n",
    "ymax= 100\n",
    "plt.ylim(ymin, ymax)\n",
    "\n",
    "# Change outlier color and show plot\n",
    "green_diamond = dict(markerfacecolor='g', marker='D')\n",
    "ax1.boxplot(boxplot_data, labels=[\"Capomulin\", \"Ramicane\", \"Infubinol\", \"Ceftamin\"], flierprops=green_diamond)\n",
    "plt.show()"
   ]
  },
  {
   "cell_type": "markdown",
   "metadata": {},
   "source": [
    "## Line and Scatter Plots"
   ]
  },
  {
   "cell_type": "code",
   "execution_count": 21,
   "metadata": {},
   "outputs": [
    {
     "data": {
      "image/png": "[encoded data removed]",
      "text/plain": [
       "<Figure size 432x288 with 1 Axes>"
      ]
     },
     "metadata": {
      "needs_background": "light"
     },
     "output_type": "display_data"
    }
   ],
   "source": [
    "# Generate a line plot of tumor volume vs. time point for a mouse treated with Capomulin\n",
    "capo_mouse_df= combined_data.loc[combined_data[\"Mouse ID\"] == \"b128\"]\n",
    "\n",
    "# Set variables \n",
    "timepoint = capo_mouse_df[\"Timepoint\"]\n",
    "tumor_vol= capo_mouse_df[\"Tumor Volume (mm3)\"]\n",
    "\n",
    "# Plot the tumor volume\n",
    "tumor_volume_line, = plt.plot(timepoint, tumor_vol)\n",
    "\n",
    "# Show the chart, add labels\n",
    "plt.xlabel(\"Timepoint\")\n",
    "plt.title(\"Tumor Volume Over Time: Capomulin Treated Mouse b128\")\n",
    "plt.ylabel(\"Tumor Volume (mm3)\")\n",
    "plt.show()"
   ]
  },
  {
   "cell_type": "code",
   "execution_count": 22,
   "metadata": {},
   "outputs": [
    {
     "data": {
      "image/png": "[encoded data removed]",
      "text/plain": [
       "<Figure size 432x288 with 1 Axes>"
      ]
     },
     "metadata": {
      "needs_background": "light"
     },
     "output_type": "display_data"
    }
   ],
   "source": [
    "# Generate a scatter plot of average tumor volume vs. mouse weight for the Capomulin regimen\n",
    "\n",
    "# Set variables\n",
    "mouse_weight = cap_df.groupby(cap_df[\"Mouse ID\"])[\"Weight (g)\"].mean()\n",
    "tumor_vol2 = cap_df.groupby(cap_df[\"Mouse ID\"])[\"Tumor Volume (mm3)\"].mean()\n",
    "\n",
    "# Plot the variables\n",
    "plt.scatter(mouse_weight,tumor_vol2)\n",
    "plt.xlabel(\"Mouse Weight\")\n",
    "plt.title(\"Average Tumor Volume vs. Mouse Weight: Capomulin Regimen\")\n",
    "plt.ylabel(\"Tumor Volume (mm3)\")\n",
    "plt.show()"
   ]
  },
  {
   "cell_type": "markdown",
   "metadata": {},
   "source": [
    "## Correlation and Regression"
   ]
  },
  {
   "cell_type": "code",
   "execution_count": 23,
   "metadata": {},
   "outputs": [
    {
     "data": {
      "image/png": "[encoded data removed]",
      "text/plain": [
       "<Figure size 432x288 with 1 Axes>"
      ]
     },
     "metadata": {
      "needs_background": "light"
     },
     "output_type": "display_data"
    },
    {
     "name": "stdout",
     "output_type": "stream",
     "text": [
      "The correlation between mouse weight and tumor volume is 0.84\n"
     ]
    }
   ],
   "source": [
    "# Calculate the correlation coefficient and linear regression model \n",
    "# for mouse weight and average tumor volume for the Capomulin regimen\n",
    "\n",
    "# Set variables (same as above)\n",
    "mouse_weight = cap_df.groupby(cap_df[\"Mouse ID\"])[\"Weight (g)\"].mean()\n",
    "tumor_vol2 = cap_df.groupby(cap_df[\"Mouse ID\"])[\"Tumor Volume (mm3)\"].mean()\n",
    "\n",
    "# Perform linear regression on mouse weight and avg tumor volume\n",
    "slope, int, r, p, std_err = st.linregress(mouse_weight, tumor_vol2)\n",
    "      \n",
    "# Slope equation\n",
    "fit = slope * mouse_weight + int\n",
    "\n",
    "# Plot the line of best fit on top of scatter plot \n",
    "plt.scatter(mouse_weight,tumor_vol2)\n",
    "plt.xlabel(\"Mouse Weight\")\n",
    "plt.plot(mouse_weight,fit,\"--\")\n",
    "plt.xticks(mouse_weight, rotation=90)\n",
    "plt.title(\"Average Tumor Volume vs. Mouse Weight: Capomulin Regimen\")\n",
    "plt.ylabel(\"Tumor Volume (mm3)\")\n",
    "plt.show()\n",
    "\n",
    "# Calculate and print correlation coefficient\n",
    "corr = round(st.pearsonr(mouse_weight,tumor_vol2)[0],2)\n",
    "print(f'The correlation between mouse weight and tumor volume is {corr}')"
   ]
  },
  {
   "cell_type": "code",
   "execution_count": null,
   "metadata": {},
   "outputs": [],
   "source": []
  }
 ],
 "metadata": {
  "anaconda-cloud": {},
  "kernelspec": {
   "display_name": "Python 3",
   "language": "python",
   "name": "python3"
  },
  "language_info": {
   "codemirror_mode": {
    "name": "ipython",
    "version": 3
   },
   "file_extension": ".py",
   "mimetype": "text/x-python",
   "name": "python",
   "nbconvert_exporter": "python",
   "pygments_lexer": "ipython3",
   "version": "3.6.10"
  }
 },
 "nbformat": 4,
 "nbformat_minor": 4
}
